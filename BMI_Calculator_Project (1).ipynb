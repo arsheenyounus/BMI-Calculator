{
 "cells": [
  {
   "cell_type": "markdown",
   "id": "45b273a8-9ce0-4bfe-a085-2860b05e96a3",
   "metadata": {},
   "source": [
    "# BMI Calculator"
   ]
  },
  {
   "cell_type": "code",
   "execution_count": 54,
   "id": "b60197ad-4088-4cdc-8361-deabc8d08c4b",
   "metadata": {},
   "outputs": [],
   "source": [
    "#BMI = (weight in pounds x 703) / (height in inches x height in inches)"
   ]
  },
  {
   "cell_type": "code",
   "execution_count": null,
   "id": "934ee15e-1ef3-48cb-87db-f7bac1d80225",
   "metadata": {},
   "outputs": [],
   "source": []
  },
  {
   "cell_type": "code",
   "execution_count": null,
   "id": "53557c38-edc9-47fc-be0d-ee2f3c285808",
   "metadata": {},
   "outputs": [],
   "source": [
    "weight = int(input(\"Enter your weight in pounds: \"))\n",
    "\n",
    "height = int(input(\"Enter your height in inches: \"))\n",
    "\n",
    "BMI = (weight * 703) / (height * height)\n",
    "\n",
    "print(BMI)\n",
    "\n",
    "if BMI > 0:\n",
    "    if(BMI < 18.5):\n",
    "        print(\"Underweight\")\n",
    "    elif(BMI <= 24.9):\n",
    "        print(\"Normal weight\")\n",
    "    elif(BMI <= 29.9):\n",
    "        print(\"Overweight\")\n",
    "    elif(BMI <= 34.9):\n",
    "        print(\"Obese\")\n",
    "    elif(BMI <= 39.9):\n",
    "        print(\"Severely obese\")\n",
    "    else:\n",
    "        print(\"Extremely obese\")\n",
    "else:\n",
    "    print(\"Enter valid inputs\")"
   ]
  },
  {
   "cell_type": "code",
   "execution_count": null,
   "id": "0fb50465-6551-45f0-bf4c-b02b2ee9d477",
   "metadata": {},
   "outputs": [],
   "source": []
  }
 ],
 "metadata": {
  "kernelspec": {
   "display_name": "Python 3 (ipykernel)",
   "language": "python",
   "name": "python3"
  },
  "language_info": {
   "codemirror_mode": {
    "name": "ipython",
    "version": 3
   },
   "file_extension": ".py",
   "mimetype": "text/x-python",
   "name": "python",
   "nbconvert_exporter": "python",
   "pygments_lexer": "ipython3",
   "version": "3.12.7"
  }
 },
 "nbformat": 4,
 "nbformat_minor": 5
}
